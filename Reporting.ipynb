{
 "cells": [
  {
   "cell_type": "code",
   "execution_count": 1,
   "metadata": {},
   "outputs": [],
   "source": [
    "import pandas as pd\n",
    "import numpy as np\n",
    "import nltk\n",
    "import os\n",
    "import nltk.corpus"
   ]
  },
  {
   "cell_type": "markdown",
   "metadata": {},
   "source": [
    "# Fonctions"
   ]
  },
  {
   "cell_type": "code",
   "execution_count": 12,
   "metadata": {},
   "outputs": [],
   "source": [
    "def recup_words(text):\n",
    "    fr = set(stopwords.words('french'))\n",
    "    token = word_tokenize(text.lower())\n",
    "    goodwords= [x for x in token if x not in fr]\n",
    "    eng = set(stopwords.words('english'))\n",
    "    goodwords2= [x for x in goodwords if x not in eng]\n",
    "    return goodwords2\n",
    "\n",
    "def list_freq(liste_words):\n",
    "    allWords = []\n",
    "    for words in liste_words:\n",
    "        for w in words:\n",
    "            if len(w)>1:\n",
    "                allWords.append(w)\n",
    "    freq=FreqDist(allWords)\n",
    "    return freq\n",
    "\n",
    "def text_mining_data_normalized(df,param,pays):\n",
    "    categ_id = [24,23,22]\n",
    "    \n",
    "    df_top=pd.DataFrame()\n",
    "    for i in categ_id:\n",
    "        df_categ=df.loc[df['category_id']==i]\n",
    "        df_categ=df_categ.sort_values(by = param,ascending=False)\n",
    "        \n",
    "        df_top=df_categ[:1000]\n",
    "        \n",
    "        liste_words=df_top['title'].apply(lambda x: recup_words(x))\n",
    "        liste_words=liste_words.tolist()\n",
    "    \n",
    "    \n",
    "        freq=list_freq(liste_words)\n",
    "        freq_top = freq.most_common (40) \n",
    "        df_freq=pd.DataFrame(freq_top)\n",
    "        df_freq.to_csv(\"Text_Mining/TextMining_\"+pays+\"_\"+param+\"_\"+str(i)+\".csv\")"
   ]
  },
  {
   "cell_type": "code",
   "execution_count": 10,
   "metadata": {},
   "outputs": [],
   "source": [
    "def moy_words(x,df,word_dict,param):\n",
    "    \n",
    "    df_unique=df.loc[df['title']==x]\n",
    "    df_unique=df_unique.sort_values(by = param,ascending=False)\n",
    "    df_unique=df_unique.iloc[0]\n",
    "    fr = set(stopwords.words('french'))\n",
    "    text=df_unique['title']\n",
    "    views=df_unique[param]\n",
    "    \n",
    "    token = word_tokenize(text.lower())\n",
    "    goodwords= [x for x in token if x not in fr]\n",
    "    eng = set(stopwords.words('english'))\n",
    "    goodwords2= [x for x in goodwords if x not in eng]\n",
    "    goodwords2= [x for x in goodwords2 if len(x)>2]\n",
    "    \n",
    "    for word in goodwords2:\n",
    "        \n",
    "        if word in word_dict:\n",
    "            word_dict[\"nb_\"+word]+=1\n",
    "            word_dict[word]=(word_dict[word]+views)/word_dict[\"nb_\"+word]\n",
    "            \n",
    "            \n",
    "        else:\n",
    "            word_dict[word]=views\n",
    "            word_dict[\"nb_\"+word]=1\n",
    "    return word_dict\n",
    "\n",
    "\n",
    "def text_mining_moy(df,param,pays,categ):\n",
    "    \n",
    "    df=df.loc[df[\"category_id\"]==categ]\n",
    "\n",
    "    word_dict=dict()\n",
    "    liste_words_views=df['title'].apply(lambda x: moy_words(x,df,word_dict,param))\n",
    "    liste=liste_words_views.iloc[0]\n",
    "    liste2=dict()\n",
    "    for key in liste:\n",
    "        if liste[key]>100:\n",
    "            liste2[key]=liste[key]\n",
    "            \n",
    "    sortedDictDesc = sorted(liste2.items(),key=operator.itemgetter(1),reverse=True)\n",
    "    \n",
    "    df_moy=pd.DataFrame(sortedDictDesc)\n",
    "    df_moy.to_csv(\"Text_Mining/TextMining_Moy_Best\"+pays+\"_\"+param+\"_\"+str(categ)+\".csv\")\n",
    "\n",
    "    sortedDictAsc = sorted(liste2.items(),key=operator.itemgetter(1),reverse=False)\n",
    "    \n",
    "    df_moy=pd.DataFrame(sortedDictAsc)\n",
    "    df_moy.to_csv(\"Text_Mining/TextMining_Moy_Bad\"+pays+\"_\"+param+\"_\"+str(categ)+\".csv\")\n",
    "    "
   ]
  },
  {
   "cell_type": "markdown",
   "metadata": {},
   "source": [
    "## Text mining totalement automatisé"
   ]
  },
  {
   "cell_type": "code",
   "execution_count": 13,
   "metadata": {},
   "outputs": [],
   "source": [
    "from nltk.corpus import stopwords\n",
    "from nltk.tokenize import word_tokenize\n",
    "from nltk.probability import FreqDist\n",
    "import operator\n",
    "\n",
    "liste_csv=[\"FR\",\"GB\",\"CA\",\"US\"]\n",
    "for pays in liste_csv:\n",
    "    df=pd.read_csv(pays+\"videos.csv\")\n",
    "    \n",
    "    # Dataframe des 100 vidéos ayant fait le plus de vues par catégories\n",
    "    param=\"views\"\n",
    "    text_mining_data_normalized(df,param,pays)\n",
    "        \n",
    "    # Dataframe des 100 vidéos ayant fait le plus de likes par catégories\n",
    "    param=\"likes\"\n",
    "    text_mining_data_normalized(df,param,pays)\n",
    "    \n",
    "    # Rappel Catégories: id 24= Entertainement  , 23= Comedy , 22= people\n",
    "\n",
    "    \n",
    "    # Dataframe des moyennes par likes\n",
    "    param=\"likes\"\n",
    "    text_mining_moy(df,param,pays,22)\n",
    "    text_mining_moy(df,param,pays,23)\n",
    "    text_mining_moy(df,param,pays,24)\n",
    "    \n",
    "    # Dataframe des moyennes par vues\n",
    "    \n",
    "    param=\"views\"\n",
    "    text_mining_moy(df,param,pays,22)\n",
    "    text_mining_moy(df,param,pays,23)\n",
    "    text_mining_moy(df,param,pays,24)\n"
   ]
  },
  {
   "cell_type": "markdown",
   "metadata": {},
   "source": [
    "## Téléchargements à faire si besoin"
   ]
  },
  {
   "cell_type": "code",
   "execution_count": 5,
   "metadata": {},
   "outputs": [
    {
     "name": "stderr",
     "output_type": "stream",
     "text": [
      "[nltk_data] Downloading package punkt to /Users/dylamano/nltk_data...\n",
      "[nltk_data]   Unzipping tokenizers/punkt.zip.\n"
     ]
    },
    {
     "data": {
      "text/plain": [
       "True"
      ]
     },
     "execution_count": 5,
     "metadata": {},
     "output_type": "execute_result"
    }
   ],
   "source": [
    "## Téléchargement de la librairie nlk permettant le text mining\n",
    "nltk.download()\n",
    "nltk.download('punkt')\n",
    "nltk.download('stopwords')"
   ]
  }
 ],
 "metadata": {
  "kernelspec": {
   "display_name": "Python 3",
   "language": "python",
   "name": "python3"
  },
  "language_info": {
   "codemirror_mode": {
    "name": "ipython",
    "version": 3
   },
   "file_extension": ".py",
   "mimetype": "text/x-python",
   "name": "python",
   "nbconvert_exporter": "python",
   "pygments_lexer": "ipython3",
   "version": "3.7.4"
  }
 },
 "nbformat": 4,
 "nbformat_minor": 2
}
